{
 "cells": [
  {
   "cell_type": "code",
   "execution_count": 1,
   "id": "9bd75b67-f842-4a10-8b5f-cbae75250364",
   "metadata": {},
   "outputs": [
    {
     "data": {
      "text/plain": [
       "Index(['Composite:GPSLatitude', 'Composite:GPSLongitude'], dtype='object')"
      ]
     },
     "execution_count": 1,
     "metadata": {},
     "output_type": "execute_result"
    }
   ],
   "source": [
    "import pandas as pd\n",
    "import matplotlib.pyplot as plt\n",
    "from sklearn.preprocessing import StandardScaler, MinMaxScaler\n",
    "from sklearn.mixture import GaussianMixture\n",
    "from sklearn.cluster import KMeans\n",
    "import numpy as np\n",
    "from scipy.spatial import ConvexHull\n",
    "from scipy import interpolate\n",
    "# Read the coordinates data from the pickle file\n",
    "coordinates = pd.read_pickle('coordinates.pkl')\n",
    "coordinates.keys()"
   ]
  },
  {
   "cell_type": "markdown",
   "id": "2e6cd73a-e824-4f7c-9917-f54eda02e775",
   "metadata": {
    "tags": []
   },
   "source": [
    "## **`_Preprocessing data_`**"
   ]
  },
  {
   "cell_type": "code",
   "execution_count": null,
   "id": "966c4918-f492-473f-ab5b-abcfdce5cc7a",
   "metadata": {},
   "outputs": [],
   "source": [
    "# Read the coordinates data from the pickle file\n",
    "coordinates = pd.read_pickle('coordinates.pkl')\n",
    "\n",
    "# Select the columns for normalization and standardization\n",
    "columns_to_scale = coordinates.keys()\n",
    "data = coordinates[columns_to_scale]\n",
    "\n",
    "# Apply normalization using MinMaxScaler\n",
    "scaler = MinMaxScaler()\n",
    "normalized_data = scaler.fit_transform(data)\n",
    "coordinates[columns_to_scale] = normalized_data\n",
    "\n",
    "# Apply standardization using StandardScaler\n",
    "scaler = StandardScaler()\n",
    "standardized_data = scaler.fit_transform(data)\n",
    "coordinates[columns_to_scale] = standardized_data\n",
    "coordinates"
   ]
  },
  {
   "cell_type": "markdown",
   "id": "bf97399e-df25-4857-a533-a4358c609593",
   "metadata": {},
   "source": [
    "## **`_cluster_coordinates_`**"
   ]
  },
  {
   "cell_type": "code",
   "execution_count": 3,
   "id": "1088e708-ab88-40f3-9134-b058bda9cec7",
   "metadata": {},
   "outputs": [],
   "source": [
    "def cluster_coordinates(coordinates):\n",
    "    \"\"\"\n",
    "        Cluster the given coordinates using Gaussian Mixture Models (GMM) and K-means algorithm.\n",
    "\n",
    "        Args:\n",
    "            coordinates (pd.DataFrame): A dataframe containing latitude and longitude coordinates.\n",
    "\n",
    "        Returns:\n",
    "            tuple: A tuple containing the updated coordinates dataframe with a 'cluster' column and the number of clusters.\n",
    "\n",
    "        Example:\n",
    "            >>> coordinates = pd.DataFrame({'Latitude': [40.7128, 41.8781, 37.7749], 'Longitude': [-74.0060, -87.6298, -122.4194]})\n",
    "            >>> result = cluster_coordinates(coordinates)\n",
    "            >>> result\n",
    "            (   Latitude  Longitude  cluster\n",
    "            0   40.7128   -74.0060        0\n",
    "            1   41.8781   -87.6298        1\n",
    "            2   37.7749  -122.4194        2, 3)\n",
    "    \"\"\"\n",
    "    bics = []\n",
    "    if len(coordinates)>1:\n",
    "        ks = np.arange(1,len(coordinates))\n",
    "\n",
    "        for k in ks:\n",
    "            gmm = GaussianMixture(n_components=k, covariance_type='full')\n",
    "            gmm.fit(coordinates)\n",
    "            bics.append(gmm.bic(coordinates))\n",
    "\n",
    "        index_max = np.argmin(bics)\n",
    "        num_clusters = ks[index_max] #if list_cluster else 2\n",
    "\n",
    "        kmeans = KMeans(n_clusters=num_clusters,n_init='auto', random_state=0)\n",
    "        cluster_labels = kmeans.fit_predict(coordinates)\n",
    "\n",
    "        coordinates['cluster'] = cluster_labels\n",
    "    else:\n",
    "        num_clusters = 0\n",
    "        coordinates['cluster'] = num_clusters\n",
    "        \n",
    "    return coordinates,num_clusters"
   ]
  },
  {
   "cell_type": "code",
   "execution_count": 4,
   "id": "051bd7e0-4c1c-4c7a-8b66-baaa886113bc",
   "metadata": {},
   "outputs": [
    {
     "name": "stdout",
     "output_type": "stream",
     "text": [
      "numer of cluster is  : 4\n"
     ]
    }
   ],
   "source": [
    "coordinates,num_clusters=cluster_coordinates(coordinates)\n",
    "print(f\"numer of cluster is  : {num_clusters}\")"
   ]
  },
  {
   "cell_type": "code",
   "execution_count": 5,
   "id": "4cefd7db-444f-40f2-b3ef-72d2e5fde770",
   "metadata": {},
   "outputs": [
    {
     "data": {
      "text/html": [
       "<div>\n",
       "<style scoped>\n",
       "    .dataframe tbody tr th:only-of-type {\n",
       "        vertical-align: middle;\n",
       "    }\n",
       "\n",
       "    .dataframe tbody tr th {\n",
       "        vertical-align: top;\n",
       "    }\n",
       "\n",
       "    .dataframe thead th {\n",
       "        text-align: right;\n",
       "    }\n",
       "</style>\n",
       "<table border=\"1\" class=\"dataframe\">\n",
       "  <thead>\n",
       "    <tr style=\"text-align: right;\">\n",
       "      <th></th>\n",
       "      <th>Composite:GPSLatitude</th>\n",
       "      <th>Composite:GPSLongitude</th>\n",
       "      <th>cluster</th>\n",
       "    </tr>\n",
       "  </thead>\n",
       "  <tbody>\n",
       "    <tr>\n",
       "      <th>2</th>\n",
       "      <td>-1.042398</td>\n",
       "      <td>1.171913</td>\n",
       "      <td>1</td>\n",
       "    </tr>\n",
       "    <tr>\n",
       "      <th>3</th>\n",
       "      <td>-1.048183</td>\n",
       "      <td>1.172778</td>\n",
       "      <td>1</td>\n",
       "    </tr>\n",
       "    <tr>\n",
       "      <th>4</th>\n",
       "      <td>-1.077191</td>\n",
       "      <td>1.129491</td>\n",
       "      <td>3</td>\n",
       "    </tr>\n",
       "    <tr>\n",
       "      <th>5</th>\n",
       "      <td>-1.048179</td>\n",
       "      <td>1.172775</td>\n",
       "      <td>1</td>\n",
       "    </tr>\n",
       "    <tr>\n",
       "      <th>6</th>\n",
       "      <td>-1.077185</td>\n",
       "      <td>1.129492</td>\n",
       "      <td>3</td>\n",
       "    </tr>\n",
       "    <tr>\n",
       "      <th>7</th>\n",
       "      <td>-1.048179</td>\n",
       "      <td>1.172775</td>\n",
       "      <td>1</td>\n",
       "    </tr>\n",
       "    <tr>\n",
       "      <th>8</th>\n",
       "      <td>-1.077188</td>\n",
       "      <td>1.129491</td>\n",
       "      <td>3</td>\n",
       "    </tr>\n",
       "    <tr>\n",
       "      <th>9</th>\n",
       "      <td>-1.077187</td>\n",
       "      <td>1.129491</td>\n",
       "      <td>3</td>\n",
       "    </tr>\n",
       "    <tr>\n",
       "      <th>10</th>\n",
       "      <td>2.146165</td>\n",
       "      <td>0.217652</td>\n",
       "      <td>2</td>\n",
       "    </tr>\n",
       "    <tr>\n",
       "      <th>11</th>\n",
       "      <td>2.144362</td>\n",
       "      <td>0.218761</td>\n",
       "      <td>2</td>\n",
       "    </tr>\n",
       "    <tr>\n",
       "      <th>12</th>\n",
       "      <td>0.423723</td>\n",
       "      <td>-0.965431</td>\n",
       "      <td>0</td>\n",
       "    </tr>\n",
       "    <tr>\n",
       "      <th>13</th>\n",
       "      <td>0.430101</td>\n",
       "      <td>-0.967373</td>\n",
       "      <td>0</td>\n",
       "    </tr>\n",
       "    <tr>\n",
       "      <th>14</th>\n",
       "      <td>0.449256</td>\n",
       "      <td>-0.973190</td>\n",
       "      <td>0</td>\n",
       "    </tr>\n",
       "    <tr>\n",
       "      <th>15</th>\n",
       "      <td>0.417316</td>\n",
       "      <td>-0.963494</td>\n",
       "      <td>0</td>\n",
       "    </tr>\n",
       "    <tr>\n",
       "      <th>16</th>\n",
       "      <td>0.436509</td>\n",
       "      <td>-0.969311</td>\n",
       "      <td>0</td>\n",
       "    </tr>\n",
       "    <tr>\n",
       "      <th>17</th>\n",
       "      <td>0.442907</td>\n",
       "      <td>-0.971245</td>\n",
       "      <td>0</td>\n",
       "    </tr>\n",
       "    <tr>\n",
       "      <th>18</th>\n",
       "      <td>0.391754</td>\n",
       "      <td>-0.955730</td>\n",
       "      <td>0</td>\n",
       "    </tr>\n",
       "    <tr>\n",
       "      <th>19</th>\n",
       "      <td>0.404524</td>\n",
       "      <td>-0.959618</td>\n",
       "      <td>0</td>\n",
       "    </tr>\n",
       "    <tr>\n",
       "      <th>20</th>\n",
       "      <td>0.398143</td>\n",
       "      <td>-0.957676</td>\n",
       "      <td>0</td>\n",
       "    </tr>\n",
       "    <tr>\n",
       "      <th>21</th>\n",
       "      <td>0.410931</td>\n",
       "      <td>-0.961552</td>\n",
       "      <td>0</td>\n",
       "    </tr>\n",
       "  </tbody>\n",
       "</table>\n",
       "</div>"
      ],
      "text/plain": [
       "    Composite:GPSLatitude  Composite:GPSLongitude  cluster\n",
       "2               -1.042398                1.171913        1\n",
       "3               -1.048183                1.172778        1\n",
       "4               -1.077191                1.129491        3\n",
       "5               -1.048179                1.172775        1\n",
       "6               -1.077185                1.129492        3\n",
       "7               -1.048179                1.172775        1\n",
       "8               -1.077188                1.129491        3\n",
       "9               -1.077187                1.129491        3\n",
       "10               2.146165                0.217652        2\n",
       "11               2.144362                0.218761        2\n",
       "12               0.423723               -0.965431        0\n",
       "13               0.430101               -0.967373        0\n",
       "14               0.449256               -0.973190        0\n",
       "15               0.417316               -0.963494        0\n",
       "16               0.436509               -0.969311        0\n",
       "17               0.442907               -0.971245        0\n",
       "18               0.391754               -0.955730        0\n",
       "19               0.404524               -0.959618        0\n",
       "20               0.398143               -0.957676        0\n",
       "21               0.410931               -0.961552        0"
      ]
     },
     "execution_count": 5,
     "metadata": {},
     "output_type": "execute_result"
    }
   ],
   "source": [
    "coordinates"
   ]
  },
  {
   "cell_type": "markdown",
   "id": "8492d40e-a249-4044-868f-6bc8556583e2",
   "metadata": {},
   "source": [
    "## **`_plot data_`**"
   ]
  },
  {
   "cell_type": "code",
   "execution_count": 6,
   "id": "c8314f12-74dc-4b22-842c-c6cf0e9b5853",
   "metadata": {},
   "outputs": [
    {
     "data": {
      "image/png": "[encoded data removed]",
      "text/plain": [
       "<Figure size 720x432 with 1 Axes>"
      ]
     },
     "metadata": {
      "needs_background": "light"
     },
     "output_type": "display_data"
    }
   ],
   "source": [
    "# Display cluster distribution\n",
    "cluster_counts = coordinates['cluster'].value_counts()\n",
    "plt.figure(figsize=(10, 6))\n",
    "cluster_counts.plot(kind='bar')\n",
    "plt.xlabel('Cluster')\n",
    "plt.ylabel('Frequency')\n",
    "plt.title('Distribution of Clusters')\n",
    "plt.show()"
   ]
  },
  {
   "cell_type": "code",
   "execution_count": 7,
   "id": "0553e425-d4f0-4257-b531-2c488deb014f",
   "metadata": {},
   "outputs": [
    {
     "data": {
      "image/png": "[encoded data removed]",
      "text/plain": [
       "<Figure size 576x576 with 1 Axes>"
      ]
     },
     "metadata": {
      "needs_background": "light"
     },
     "output_type": "display_data"
    }
   ],
   "source": [
    "# Plotting clusters\n",
    "colors = ['green', 'blue', 'red', 'yellow']\n",
    "\n",
    "plt.figure(figsize=(8, 8))\n",
    "for cluster_id in range(num_clusters):\n",
    "    cluster_points = coordinates[coordinates['cluster'] == cluster_id]\n",
    "    plt.scatter(cluster_points['Composite:GPSLongitude'], \n",
    "                cluster_points['Composite:GPSLatitude'],\n",
    "                color=colors[cluster_id], label=f'Cluster {cluster_id}')\n",
    "\n",
    "plt.xlabel('Longitude')\n",
    "plt.ylabel('Latitude')\n",
    "plt.title('Cluster Visualization')\n",
    "plt.legend()\n",
    "plt.grid(True)\n",
    "plt.show()"
   ]
  },
  {
   "cell_type": "code",
   "execution_count": null,
   "id": "2b44433a-2fad-4e38-ac4d-2ea7b8a1a513",
   "metadata": {},
   "outputs": [],
   "source": []
  }
 ],
 "metadata": {
  "kernelspec": {
   "display_name": "tfc",
   "language": "python",
   "name": "tfc"
  },
  "language_info": {
   "codemirror_mode": {
    "name": "ipython",
    "version": 3
   },
   "file_extension": ".py",
   "mimetype": "text/x-python",
   "name": "python",
   "nbconvert_exporter": "python",
   "pygments_lexer": "ipython3",
   "version": "3.9.16"
  }
 },
 "nbformat": 4,
 "nbformat_minor": 5
}
